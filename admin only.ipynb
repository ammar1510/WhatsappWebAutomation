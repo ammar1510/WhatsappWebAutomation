{
 "cells": [
  {
   "cell_type": "code",
   "execution_count": 1,
   "metadata": {},
   "outputs": [],
   "source": [
    "from selenium.webdriver.support.ui import WebDriverWait\n",
    "from selenium.webdriver.common.by import By\n",
    "from selenium.webdriver.support import expected_conditions as EC\n",
    "from helium import *\n",
    "# try:\n",
    "#     from .utils import *\n",
    "# except:\n",
    "#     from utils import *\n",
    "import time\n",
    "# import autoit\n",
    "from pathlib import Path\n",
    "from selenium.common.exceptions import NoSuchElementException\n",
    "from selenium.webdriver.common.action_chains import ActionChains\n",
    "from selenium.webdriver.common.keys import Keys\n",
    "import pandas as pd"
   ]
  },
  {
   "cell_type": "code",
   "execution_count": 6,
   "metadata": {},
   "outputs": [],
   "source": [
    "df = pd.read_excel('admin_only_send_message.xlsx')\n",
    "gn = df['Group Name'].values.tolist()\n",
    "rights = df['Rights'].values.tolist()"
   ]
  },
  {
   "cell_type": "code",
   "execution_count": 4,
   "metadata": {},
   "outputs": [],
   "source": [
    "timeout_secs=200\n",
    "\n",
    "browser = start_chrome('https://web.whatsapp.com')\n",
    "wait_until(Text('Keep your phone').exists,timeout_secs=timeout_secs )\n",
    "    "
   ]
  },
  {
   "cell_type": "code",
   "execution_count": 9,
   "metadata": {},
   "outputs": [],
   "source": [
    "k = 0\n",
    "for i in gn:\n",
    "    search_box = browser.find_element_by_xpath('//*[@id=\"side\"]/div[1]/div/label/div/div[2]')\n",
    "    search_box.clear()\n",
    "    search_box.send_keys(i)\n",
    "    time.sleep(5)\n",
    "    user = browser.find_element_by_xpath(f'//span[@title=\"{i}\"]')\n",
    "    user.click()\n",
    "    time.sleep(2)\n",
    "    hbm = browser.find_element_by_xpath('//*[@id=\"main\"]/header/div[3]/div/div[2]/div')\n",
    "    hbm.click()  \n",
    "    time.sleep(2)\n",
    "    bl_info = browser.find_element_by_xpath('//*[@id=\"app\"]/div[1]/span[4]/div/ul/div/div/li[1]/div[1]')\n",
    "    bl_info.click()\n",
    "    time.sleep(1)\n",
    "    settings = browser.find_element_by_xpath('//*[@id=\"app\"]/div[1]/div[1]/div[2]/div[3]/span/div[1]/span/div[1]/div/section/div[4]/div[4]/div')\n",
    "    settings.click()\n",
    "    send_message = browser.find_element_by_xpath('//*[@id=\"app\"]/div[1]/div[1]/div[2]/div[3]/span/div[1]/span/div[1]/div/div[3]/div/div/div/div[1]')\n",
    "    send_message.click()\n",
    "    if rights[k] == 'Only admins':\n",
    "        oa = browser.find_element_by_xpath('//*[@id=\"app\"]/div[1]/span[2]/div[1]/div/div/div/div/div/div[2]/form/ol/li[2]/label')\n",
    "        oa.click()\n",
    "        confirm = browser.find_element_by_xpath('//*[@id=\"app\"]/div[1]/span[2]/div[1]/div/div/div/div/div/div[3]/div[2]/div/div')\n",
    "        confirm.click()\n",
    "        time.sleep(2)\n",
    "    else:\n",
    "        ap = browser.find_element_by_xpath('//*[@id=\"app\"]/div[1]/span[2]/div[1]/div/div/div/div/div/div[2]/form/ol/li[1]/label')\n",
    "        ap.click()\n",
    "        confirm = browser.find_element_by_xpath('//*[@id=\"app\"]/div[1]/span[2]/div[1]/div/div/div/div/div/div[3]/div[2]/div/div')\n",
    "        confirm.click()\n",
    "        time.sleep(2)\n",
    "    k = k + 1\n",
    "    "
   ]
  },
  {
   "cell_type": "code",
   "execution_count": 7,
   "metadata": {},
   "outputs": [
    {
     "data": {
      "text/plain": [
       "['Only admins', 'All participants']"
      ]
     },
     "execution_count": 7,
     "metadata": {},
     "output_type": "execute_result"
    }
   ],
   "source": [
    "rights"
   ]
  },
  {
   "cell_type": "code",
   "execution_count": null,
   "metadata": {},
   "outputs": [],
   "source": []
  }
 ],
 "metadata": {
  "kernelspec": {
   "display_name": "Python 3",
   "language": "python",
   "name": "python3"
  },
  "language_info": {
   "codemirror_mode": {
    "name": "ipython",
    "version": 3
   },
   "file_extension": ".py",
   "mimetype": "text/x-python",
   "name": "python",
   "nbconvert_exporter": "python",
   "pygments_lexer": "ipython3",
   "version": "3.7.3"
  }
 },
 "nbformat": 4,
 "nbformat_minor": 2
}
