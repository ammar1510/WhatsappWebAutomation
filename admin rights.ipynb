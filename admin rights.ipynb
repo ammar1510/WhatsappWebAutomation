{
 "cells": [
  {
   "cell_type": "code",
   "execution_count": 1,
   "metadata": {},
   "outputs": [],
   "source": [
    "from selenium.webdriver.support.ui import WebDriverWait\n",
    "from selenium.webdriver.common.by import By\n",
    "from selenium.webdriver.support import expected_conditions as EC\n",
    "from helium import *\n",
    "# try:\n",
    "#     from .utils import *\n",
    "# except:\n",
    "#     from utils import *\n",
    "import time\n",
    "# import autoit\n",
    "from pathlib import Path\n",
    "from selenium.common.exceptions import NoSuchElementException\n",
    "from selenium.webdriver.common.action_chains import ActionChains\n",
    "from selenium.webdriver.common.keys import Keys\n",
    "import pandas as pd"
   ]
  },
  {
   "cell_type": "code",
   "execution_count": 8,
   "metadata": {},
   "outputs": [],
   "source": [
    "df = pd.read_excel('admin_rights.xlsx')\n",
    "gn = df['Group Name'].values.tolist()\n",
    "tpd = df['Participants']\n",
    "tpd = tpd.tolist()"
   ]
  },
  {
   "cell_type": "code",
   "execution_count": 3,
   "metadata": {},
   "outputs": [],
   "source": [
    "timeout_secs=200\n",
    "\n",
    "browser = start_chrome('https://web.whatsapp.com')\n",
    "wait_until(Text('Keep your phone').exists,timeout_secs=timeout_secs )\n"
   ]
  },
  {
   "cell_type": "code",
   "execution_count": 9,
   "metadata": {},
   "outputs": [
    {
     "name": "stdout",
     "output_type": "stream",
     "text": [
      "very few participants for scrolling!!!\n",
      "very few participants for scrolling!!!\n"
     ]
    }
   ],
   "source": [
    "k=0\n",
    "list1 = []\n",
    "k=0\n",
    "list1 = []\n",
    "\n",
    "timeout_secs=200\n",
    "for i in gn:\n",
    "    p_to_rem = tpd[k].split(';')\n",
    "    k=k+1\n",
    "    search_box = browser.find_element_by_xpath('//*[@id=\"side\"]/div[1]/div/label/div/div[2]')\n",
    "    search_box.clear()\n",
    "    search_box.send_keys(i)\n",
    "    time.sleep(5)\n",
    "    user = browser.find_element_by_xpath(f'//span[@title=\"{i}\"]')\n",
    "    user.click()\n",
    "    time.sleep(2)\n",
    "    hbm = browser.find_element_by_xpath('//*[@id=\"main\"]/header/div[3]/div/div[2]/div')\n",
    "    hbm.click()  \n",
    "    time.sleep(2)\n",
    "    bl_info = browser.find_element_by_xpath('//*[@id=\"app\"]/div[1]/span[4]/div/ul/div/div/li[1]/div[1]')\n",
    "    bl_info.click()\n",
    "    time.sleep(1)\n",
    "    extend_list = browser.find_element_by_xpath('//*[@id=\"app\"]/div[1]/div[1]/div[2]/div[3]/span/div[1]/span/div[1]/div/section/div[5]/div[3]/div[2]/div/div')\n",
    "    ex_list = extend_list.text\n",
    "    more = ex_list.split(' ')\n",
    "    if more[1] == 'more':\n",
    "        extend_list.click()\n",
    "    else:\n",
    "        print('very few participants for scrolling!!!')\n",
    "        \n",
    "    time.sleep(2)\n",
    "    looptime = 2\n",
    "    temp1 = 1\n",
    "    while(looptime):\n",
    "        scr1 = browser.find_element_by_xpath('//*[@id=\"app\"]/div/div/div[2]/div[3]/span/div/span/div/div')\n",
    "        browser.execute_script(\"arguments[0].scrollTop = arguments[0].scrollTop + 400\", scr1)\n",
    "        element = WebDriverWait(browser, 20).until(EC.visibility_of_all_elements_located((By.CLASS_NAME, \"_3vPI2\")))\n",
    "        for j in range(0,len(element)):\n",
    "            temp = element[j].text\n",
    "            lst = temp.split('\\n')\n",
    "            lst1 = lst[0]\n",
    "            for p in p_to_rem:\n",
    "                if lst1 == p:\n",
    "                    action = ActionChains(browser)\n",
    "                    action.context_click(element[j]).perform()\n",
    "                    time.sleep(2)\n",
    "                    admin = browser.find_element_by_xpath('//*[@id=\"app\"]/div[1]/span[4]/div/ul/div/li[1]/div[1]')\n",
    "                    admin.click()\n",
    "                    time.sleep(1)\n",
    "                    admin_1 = browser.find_element_by_xpath('//*[@id=\"app\"]/div[1]/span[2]/div[1]/div/div/div/div/div/div[2]/div[2]/div/div')\n",
    "                    admin_1.click()\n",
    "                    time.sleep(3)\n",
    "                    p_to_rem.remove(p)\n",
    "        looptime = looptime - 1\n",
    "        \n",
    "        \n",
    "        \n",
    "        "
   ]
  },
  {
   "cell_type": "code",
   "execution_count": 5,
   "metadata": {},
   "outputs": [
    {
     "data": {
      "text/plain": [
       "['Osama R-30', 'Osama R-31']"
      ]
     },
     "execution_count": 5,
     "metadata": {},
     "output_type": "execute_result"
    }
   ],
   "source": [
    "tpd"
   ]
  },
  {
   "cell_type": "code",
   "execution_count": null,
   "metadata": {},
   "outputs": [],
   "source": []
  }
 ],
 "metadata": {
  "kernelspec": {
   "display_name": "Python 3",
   "language": "python",
   "name": "python3"
  },
  "language_info": {
   "codemirror_mode": {
    "name": "ipython",
    "version": 3
   },
   "file_extension": ".py",
   "mimetype": "text/x-python",
   "name": "python",
   "nbconvert_exporter": "python",
   "pygments_lexer": "ipython3",
   "version": "3.7.3"
  }
 },
 "nbformat": 4,
 "nbformat_minor": 2
}
