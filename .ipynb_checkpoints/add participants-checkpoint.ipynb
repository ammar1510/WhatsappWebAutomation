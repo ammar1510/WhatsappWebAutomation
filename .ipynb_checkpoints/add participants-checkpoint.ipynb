{
 "cells": [
  {
   "cell_type": "code",
   "execution_count": 75,
   "metadata": {},
   "outputs": [],
   "source": [
    "from selenium.webdriver.support.ui import WebDriverWait\n",
    "from selenium.webdriver.common.by import By\n",
    "from selenium.webdriver.support import expected_conditions as EC\n",
    "from helium import *\n",
    "# try:\n",
    "#     from .utils import *\n",
    "# except:\n",
    "#     from utils import *\n",
    "import time\n",
    "# import autoit\n",
    "from pathlib import Path\n",
    "from selenium.common.exceptions import NoSuchElementException\n",
    "from selenium.webdriver.common.action_chains import ActionChains\n",
    "from selenium.webdriver.common.keys import Keys\n",
    "import pandas as pd"
   ]
  },
  {
   "cell_type": "code",
   "execution_count": 76,
   "metadata": {},
   "outputs": [
    {
     "data": {
      "text/plain": [
       "'You;Osama R-30;Fahad Rahmani-primary'"
      ]
     },
     "execution_count": 76,
     "metadata": {},
     "output_type": "execute_result"
    }
   ],
   "source": [
    "df = pd.read_excel('add_participants.xlsx')\n",
    "gn = df['Group Name'].values.tolist()\n",
    "tpd = df['Participants to add']\n",
    "tpd = tpd.tolist()\n",
    "\n",
    "p_to_add = tpd[0].split(';')\n",
    "# dfs = pd.read_excel('{}.xlsx'.format(gn[0]))\n",
    "# member = dfs[0].values.tolist()\n",
    "# for p in p_to_add:\n",
    "#     for m in member:\n",
    "#         if p == m:\n",
    "#             p_to_add.remove(p)\n",
    "tpd[0]"
   ]
  },
  {
   "cell_type": "code",
   "execution_count": 3,
   "metadata": {},
   "outputs": [],
   "source": [
    "j=0\n",
    "timeout_secs=200\n",
    "\n",
    "# df = pd.read_excel('add_participants.xlsx')\n",
    "# gn = df['Group Name'].values.tolist()\n",
    "# tpd = df['Participants to add']\n",
    "# tpd = tpd.tolist()\n",
    "\n",
    "browser = start_chrome('https://web.whatsapp.com')\n",
    "wait_until(Text('Keep your phone').exists,timeout_secs=timeout_secs )\n"
   ]
  },
  {
   "cell_type": "code",
   "execution_count": 77,
   "metadata": {},
   "outputs": [
    {
     "name": "stdout",
     "output_type": "stream",
     "text": [
      "Waquar GHS\n",
      "You\n",
      "Osama R-30\n",
      "Osama R-30\n",
      "Osama R-30\n",
      "Fahad Rahmani-primary\n",
      "Fahad Rahmani-primary\n",
      "Fahad Rahmani-primary\n"
     ]
    }
   ],
   "source": [
    "\n",
    "j=0\n",
    "for i in gn:\n",
    "    p_to_add = tpd[j].split(';')\n",
    "#     dfs = pd.read_excel('{}.xlsx'.format(i))\n",
    "#     member = dfs[0].values.tolist()\n",
    "#     for p in p_to_add:\n",
    "#         for m in member:\n",
    "#             if p == m:\n",
    "#                 p_to_add.remove(p)\n",
    "    j = j+1\n",
    "    try:\n",
    "        search_box = browser.find_element_by_xpath('//*[@id=\"side\"]/div[1]/div/label/div/div[2]')\n",
    "        search_box.clear()\n",
    "        search_box.send_keys(i)\n",
    "        time.sleep(5)\n",
    "        user = browser.find_element_by_xpath(f'//span[@title=\"{i}\"]')\n",
    "        user.click()\n",
    "        time.sleep(2)\n",
    "    except:\n",
    "        print('group name {} does not exist!'.format(i))\n",
    "    hbm = browser.find_element_by_xpath('//*[@id=\"main\"]/header/div[3]/div/div[2]/div')\n",
    "    hbm.click()  \n",
    "    time.sleep(2)\n",
    "    bl_info = browser.find_element_by_xpath('//*[@id=\"app\"]/div[1]/span[4]/div/ul/div/div/li[1]/div[1]')\n",
    "    bl_info.click()\n",
    "    ad_p = browser.find_element_by_xpath('//*[@id=\"app\"]/div[1]/div[1]/div[2]/div[3]/span/div[1]/span/div[1]/div/section/div[5]/div[2]/div[2]/div/div')\n",
    "    ad_p.click()\n",
    "    for participants in p_to_add:\n",
    "        sm = browser.find_element_by_xpath('//*[@id=\"app\"]/div[1]/span[2]/div[1]/span/div[1]/div/div/div/div/div/div[1]/div/label/div/div[2]')\n",
    "        sm.clear()\n",
    "        sm.send_keys(participants)\n",
    "        time.sleep(2)\n",
    "        try:\n",
    "            try:\n",
    "                name = browser.find_element_by_xpath('//*[@id=\"app\"]/div[1]/span[2]/div[1]/span/div[1]/div/div/div/div/div/div[2]/div[1]/div/div/div[1]/div/div[2]/div/div[2]/div[1]/div/span/span')\n",
    "            except:\n",
    "                name = browser.find_element_by_xpath('//*[@id=\"app\"]/div[1]/span[2]/div[1]/span/div[1]/div/div/div/div/div/div[2]/div[1]/div/div/div[2]/div/div[2]/div/div[2]/div[1]/div/span/span')\n",
    "            names = name.text\n",
    "            print(names)\n",
    "            print(participants)\n",
    "            if names == participants:\n",
    "                print(names)\n",
    "                name.click()\n",
    "                time.sleep(2)\n",
    "        except:\n",
    "            print('participant {} has no watsapp contact!!!'.format(participants))\n",
    "    select = browser.find_element_by_xpath('//*[@id=\"app\"]/div[1]/span[2]/div[1]/span/div[1]/div/div/div/div/div/span[2]/div/div/div/span')\n",
    "    select.click()\n",
    "    add  =browser.find_element_by_xpath('//*[@id=\"app\"]/div[1]/span[2]/div[1]/span/div[1]/div/div/div/div/div[2]/div[2]/div/div')\n",
    "    add.click()\n",
    "    time.sleep(5)\n",
    "    try:\n",
    "        request = browser.find_element_by_xpath('//*[@id=\"app\"]/div[1]/span[2]/div[1]/span/div[1]/div/div/div/div/div[2]/div[2]/div/div')\n",
    "        request.click()\n",
    "        send_req = browser.find_element_by_xpath('//*[@id=\"app\"]/div[1]/span[2]/div[1]/span/div[1]/div/div/div/div/div/div/span/div/span')\n",
    "        send_req.click()\n",
    "    except:\n",
    "        print(\"participants added successfully!!!\")\n",
    "    "
   ]
  },
  {
   "cell_type": "code",
   "execution_count": 65,
   "metadata": {},
   "outputs": [
    {
     "data": {
      "text/plain": [
       "str"
      ]
     },
     "execution_count": 65,
     "metadata": {},
     "output_type": "execute_result"
    }
   ],
   "source": [
    "type(names)\n",
    "type(participants)"
   ]
  },
  {
   "cell_type": "code",
   "execution_count": 23,
   "metadata": {},
   "outputs": [
    {
     "data": {
      "text/plain": [
       "'Manish_rubyyyyy'"
      ]
     },
     "execution_count": 23,
     "metadata": {},
     "output_type": "execute_result"
    }
   ],
   "source": [
    "name = browser.find_element_by_xpath('//*[@id=\"app\"]/div[1]/span[2]/div[1]/span/div[1]/div/div/div/div/div/div[2]/div[1]/div/div/div[1]/div/div[2]/div/div[2]/div[1]/div/span/span').text\n",
    "name"
   ]
  },
  {
   "cell_type": "code",
   "execution_count": null,
   "metadata": {},
   "outputs": [],
   "source": []
  },
  {
   "cell_type": "code",
   "execution_count": 58,
   "metadata": {},
   "outputs": [
    {
     "name": "stdout",
     "output_type": "stream",
     "text": [
      "Fahad Rahmani-primary\n"
     ]
    }
   ],
   "source": [
    "try:\n",
    "    name = browser.find_element_by_xpath('//*[@id=\"app\"]/div[1]/span[2]/div[1]/span/div[1]/div/div/div/div/div/div[2]/div[1]/div/div/div[1]/div/div[2]/div/div[2]/div[1]/div/span/span')\n",
    "except:\n",
    "    name = browser.find_element_by_xpath('//*[@id=\"app\"]/div[1]/span[2]/div[1]/span/div[1]/div/div/div/div/div/div[2]/div[1]/div/div/div[2]/div/div[2]/div/div[2]/div[1]/div/span/span')\n",
    "names = name.text\n",
    "print(names)\n",
    "if names == participants:\n",
    "    name.click()"
   ]
  },
  {
   "cell_type": "code",
   "execution_count": 35,
   "metadata": {},
   "outputs": [
    {
     "ename": "SyntaxError",
     "evalue": "invalid syntax (<ipython-input-35-5d1e0cbbeebe>, line 1)",
     "output_type": "error",
     "traceback": [
      "\u001b[1;36m  File \u001b[1;32m\"<ipython-input-35-5d1e0cbbeebe>\"\u001b[1;36m, line \u001b[1;32m1\u001b[0m\n\u001b[1;33m    //*[@id=\"app\"]/div[1]/span[2]/div[1]/span/div[1]/div/div/div/div/div/div[2]/div[1]/div/div/div[2]/div/div[2]/div/div[2]/div[1]/div/span/span\u001b[0m\n\u001b[1;37m     ^\u001b[0m\n\u001b[1;31mSyntaxError\u001b[0m\u001b[1;31m:\u001b[0m invalid syntax\n"
     ]
    }
   ],
   "source": [
    "    //*[@id=\"app\"]/div[1]/span[2]/div[1]/span/div[1]/div/div/div/div/div/div[2]/div[1]/div/div/div[2]/div/div[2]/div/div[2]/div[1]/div/span/span"
   ]
  },
  {
   "cell_type": "code",
   "execution_count": null,
   "metadata": {},
   "outputs": [],
   "source": []
  },
  {
   "cell_type": "code",
   "execution_count": null,
   "metadata": {},
   "outputs": [],
   "source": []
  }
 ],
 "metadata": {
  "kernelspec": {
   "display_name": "Python 3",
   "language": "python",
   "name": "python3"
  },
  "language_info": {
   "codemirror_mode": {
    "name": "ipython",
    "version": 3
   },
   "file_extension": ".py",
   "mimetype": "text/x-python",
   "name": "python",
   "nbconvert_exporter": "python",
   "pygments_lexer": "ipython3",
   "version": "3.7.3"
  }
 },
 "nbformat": 4,
 "nbformat_minor": 2
}
