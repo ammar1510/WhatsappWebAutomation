{
 "cells": [
  {
   "cell_type": "code",
   "execution_count": 34,
   "metadata": {},
   "outputs": [],
   "source": [
    "from selenium.webdriver.support.ui import WebDriverWait\n",
    "from selenium.webdriver.common.by import By\n",
    "from selenium.webdriver.support import expected_conditions as EC\n",
    "from helium import *\n",
    "import time\n",
    "# import autoit\n",
    "from pathlib import Path\n",
    "from selenium.common.exceptions import NoSuchElementException\n",
    "from selenium.webdriver.common.action_chains import ActionChains\n",
    "from selenium.webdriver.common.keys import Keys\n",
    "import pandas as pd\n",
    "import datetime"
   ]
  },
  {
   "cell_type": "code",
   "execution_count": 83,
   "metadata": {},
   "outputs": [],
   "source": [
    "df = pd.read_excel('message.xlsx')\n",
    "name = df['Name'].values.tolist()\n",
    "number = df['Number'].values.tolist()\n",
    "message = df['Message'].values.tolist()\n",
    "pdf = df['Pdf'].values.tolist()\n",
    "# pdf_folder = df['Pdf Folder'].values.tolist()\n",
    "error = {}"
   ]
  },
  {
   "cell_type": "code",
   "execution_count": 12,
   "metadata": {},
   "outputs": [],
   "source": [
    "timeout_secs=200\n",
    "browser = start_chrome('https://web.whatsapp.com')\n",
    "wait_until(Text('Keep your phone').exists,timeout_secs=timeout_secs )\n"
   ]
  },
  {
   "cell_type": "code",
   "execution_count": 87,
   "metadata": {},
   "outputs": [],
   "source": [
    "j=0\n",
    "for i in number:\n",
    "    try:\n",
    "        search_box = browser.find_element_by_xpath('//*[@id=\"side\"]/div[1]/div/label/div/div[2]')\n",
    "        search_box.clear()\n",
    "        time.sleep(2)\n",
    "        search_box.send_keys(i)\n",
    "        time.sleep(2)\n",
    "        k = name[j]\n",
    "        user = browser.find_element_by_xpath(f'//span[@title=\"{k}\"]')\n",
    "        time.sleep(2)\n",
    "        user.click()\n",
    "        time.sleep(2)\n",
    "        message_box = browser.find_element_by_xpath('//*[@id=\"main\"]/footer/div[1]/div[2]/div/div[1]/div/div[2]')\n",
    "        message_box.click()\n",
    "        time.sleep(2)\n",
    "        message1 = message[j].split('\\\\n')\n",
    "    #     print(message1)\n",
    "        for msg in message1:\n",
    "            action = ActionChains(browser)\n",
    "            action.send_keys_to_element(message_box, msg)\n",
    "            action.key_down(Keys.CONTROL)\n",
    "            action.key_down(Keys.ENTER)\n",
    "            action.key_up(Keys.ENTER)\n",
    "            action.key_up(Keys.CONTROL)\n",
    "            action.perform()\n",
    "        time.sleep(2)\n",
    "        send = browser.find_element_by_xpath('//*[@id=\"main\"]/footer/div[1]/div[2]/div/div[2]/button')\n",
    "        send.click()\n",
    "        time.sleep()\n",
    "    except:\n",
    "        error['{}'.format(i)] = 'no contact fount'\n",
    "\n",
    "    j = j+1\n",
    "dfs = pd.DataFrame(data=error, index=[0])\n",
    "dfs = (dfs.T)\n",
    "x = datetime.datetime.now()\n",
    "y  = x.strftime(\"%m_%d_%Y_%H_%M_%S\")\n",
    "dfs.to_excel('error_{}.xlsx'.format(y))\n",
    "\n",
    "        \n",
    "    "
   ]
  },
  {
   "cell_type": "code",
   "execution_count": 78,
   "metadata": {},
   "outputs": [
    {
     "data": {
      "text/plain": [
       "['Osama R-30', 'Fahad Rahmani-primary', 'Papa']"
      ]
     },
     "execution_count": 78,
     "metadata": {},
     "output_type": "execute_result"
    }
   ],
   "source": [
    "name"
   ]
  },
  {
   "cell_type": "code",
   "execution_count": 80,
   "metadata": {},
   "outputs": [
    {
     "data": {
      "text/plain": [
       "[7697034321, 9740755800, 9801688725]"
      ]
     },
     "execution_count": 80,
     "metadata": {},
     "output_type": "execute_result"
    }
   ],
   "source": [
    "number"
   ]
  },
  {
   "cell_type": "code",
   "execution_count": null,
   "metadata": {},
   "outputs": [],
   "source": []
  },
  {
   "cell_type": "code",
   "execution_count": 53,
   "metadata": {},
   "outputs": [],
   "source": []
  },
  {
   "cell_type": "code",
   "execution_count": null,
   "metadata": {},
   "outputs": [],
   "source": []
  }
 ],
 "metadata": {
  "kernelspec": {
   "display_name": "Python 3",
   "language": "python",
   "name": "python3"
  },
  "language_info": {
   "codemirror_mode": {
    "name": "ipython",
    "version": 3
   },
   "file_extension": ".py",
   "mimetype": "text/x-python",
   "name": "python",
   "nbconvert_exporter": "python",
   "pygments_lexer": "ipython3",
   "version": "3.7.3"
  }
 },
 "nbformat": 4,
 "nbformat_minor": 2
}
